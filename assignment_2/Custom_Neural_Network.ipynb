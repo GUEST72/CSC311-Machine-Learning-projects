{
  "nbformat": 4,
  "nbformat_minor": 0,
  "metadata": {
    "colab": {
      "provenance": [],
      "authorship_tag": "ABX9TyP7wPnLL8Pkwv+ABqg3mOG7",
      "include_colab_link": true
    },
    "kernelspec": {
      "name": "python3",
      "display_name": "Python 3"
    },
    "language_info": {
      "name": "python"
    }
  },
  "cells": [
    {
      "cell_type": "markdown",
      "metadata": {
        "id": "view-in-github",
        "colab_type": "text"
      },
      "source": [
        "<a href=\"https://colab.research.google.com/github/GUEST72/CSC311-Machine-Learning-projects/blob/main/assignment_2/Custom_Neural_Network.ipynb\" target=\"_parent\"><img src=\"https://colab.research.google.com/assets/colab-badge.svg\" alt=\"Open In Colab\"/></a>"
      ]
    },
    {
      "cell_type": "code",
      "execution_count": 3,
      "metadata": {
        "id": "TN_ylsKZ6oHY",
        "colab": {
          "base_uri": "https://localhost:8080/"
        },
        "outputId": "4dd95875-3aa5-4e60-efc4-6132c4d8f26b"
      },
      "outputs": [
        {
          "output_type": "stream",
          "name": "stdout",
          "text": [
            "Using device: cuda\n"
          ]
        },
        {
          "output_type": "execute_result",
          "data": {
            "text/plain": [
              "<torch._C.Generator at 0x2a091698110>"
            ]
          },
          "metadata": {},
          "execution_count": 3
        }
      ],
      "source": [
        "import torch\n",
        "import torch.nn as nn\n",
        "import torch.optim as optim\n",
        "import torch.nn.functional as F\n",
        "from torch.utils.data import DataLoader, Subset, ConcatDataset\n",
        "from torchvision import datasets, transforms\n",
        "from sklearn.model_selection import train_test_split\n",
        "import numpy as np\n",
        "import matplotlib.pyplot as plt\n",
        "import pandas as pd\n",
        "from sklearn.metrics import accuracy_score\n",
        "import os\n",
        "\n",
        "#Set_device (use GPU)\n",
        "device = torch.device(\"cuda\")\n",
        "print(f\"Using device: {device}\")\n",
        "torch.manual_seed(27)"
      ]
    },
    {
      "cell_type": "code",
      "source": [
        "# Transform: Normalize to [0,1] (ToTensor does this)\n",
        "transform = transforms.Compose([\n",
        "    transforms.Resize((28, 28)),\n",
        "    transforms.ToTensor(),\n",
        "])\n",
        "\n",
        "\n",
        "# Load MNIST train and test sets\n",
        "train_dataset = datasets.MNIST(root='./data', train=True, download=True, transform=transform)\n",
        "test_dataset = datasets.MNIST(root='./data', train=False, download=True, transform=transform)\n",
        "\n",
        "# Combine them to split across all data\n",
        "full_dataset = ConcatDataset([train_dataset, test_dataset])\n",
        "# Get all labels for stratification\n",
        "labels = [full_dataset[i][1] for i in range(len(full_dataset))]\n",
        "\n",
        "# Split indices: 60% train, 40% temp (then split temp into 50% val, 50% test → 20% each)\n",
        "train_idx, temp_idx = train_test_split(range(len(full_dataset)), test_size=0.4, stratify=labels, random_state=42)\n",
        "val_idx, test_idx = train_test_split(temp_idx, test_size=0.5, stratify=[labels[i] for i in temp_idx], random_state=42)\n",
        "\n",
        "# Create subsets\n",
        "train_set = Subset(full_dataset, train_idx)\n",
        "val_set = Subset(full_dataset, val_idx)\n",
        "test_set = Subset(full_dataset, test_idx)\n",
        "\n",
        "# Function to create DataLoaders (we'll use this later with different batch sizes)\n",
        "def get_dataloaders(batch_size=64):\n",
        "    train_loader = DataLoader(train_set, batch_size=batch_size, shuffle=True, num_workers=2)\n",
        "    val_loader = DataLoader(val_set, batch_size=batch_size, shuffle=False, num_workers=2)\n",
        "    test_loader = DataLoader(test_set, batch_size=batch_size, shuffle=False, num_workers=2)\n",
        "    return train_loader, val_loader, test_loader\n",
        "\n",
        "# Create baseline loaders\n",
        "train_loader, val_loader, test_loader = get_dataloaders()\n",
        "\n",
        "print(f\"Train size: {len(train_set)}, Val size: {len(val_set)}, Test size: {len(test_set)}\")"
      ],
      "metadata": {
        "id": "i76y0wiPwLsF",
        "colab": {
          "base_uri": "https://localhost:8080/"
        },
        "outputId": "e2ecf255-6f5e-42a2-cdb9-2a29c4a707e6"
      },
      "execution_count": 4,
      "outputs": [
        {
          "output_type": "stream",
          "name": "stderr",
          "text": [
            "100.0%\n",
            "100.0%\n",
            "100.0%\n",
            "100.0%\n"
          ]
        },
        {
          "output_type": "stream",
          "name": "stdout",
          "text": [
            "Train size: 42000, Val size: 14000, Test size: 14000\n"
          ]
        }
      ]
    },
    {
      "cell_type": "code",
      "source": [
        "import matplotlib.pyplot as plt\n",
        "\n",
        "# Get a sample\n",
        "dataiter = iter(train_loader)\n",
        "images, labels = next(dataiter)\n",
        "\n",
        "\n",
        "fig, axes = plt.subplots(4, 5, figsize=(10, 8))\n",
        "fig.suptitle(\"Sample Training Images\", fontsize=16)\n",
        "for idx, ax in enumerate(axes.flat):\n",
        "    ax.imshow(images[idx].squeeze(), cmap='gray')\n",
        "    ax.set_title(f\"Label: {labels[idx].item()}\", fontsize=8)\n",
        "    ax.axis('off')\n",
        "\n",
        "plt.tight_layout()\n",
        "plt.show()\n"
      ],
      "metadata": {
        "id": "cL2851OAwjpA",
        "colab": {
          "base_uri": "https://localhost:8080/",
          "height": 805
        },
        "outputId": "2e0934ed-bb6c-4efc-b7de-2b199b99496b"
      },
      "execution_count": 5,
      "outputs": [
        {
          "output_type": "display_data",
          "data": {
            "text/plain": [
              "<Figure size 1000x800 with 20 Axes>"
            ],
            "image/png": "[encoded data removed]"
          },
          "metadata": {}
        }
      ]
    },
    {
      "cell_type": "code",
      "source": [
        "class CustomNN(nn.Module):\n",
        "    # Define the neural network architecture\n",
        "    def __init__(self, input_size=784, hidden_sizes=[128, 64], output_size=10, dropout_prob=0.0, use_batchnorm=False):\n",
        "        super(CustomNN, self).__init__()\n",
        "        # Flexible: hidden_sizes is a list for multiple hidden layers\n",
        "        self.activation_fn = nn.ReLU() # Using ReLU as the activation function\n",
        "\n",
        "        # Create a list to hold the layers of the network\n",
        "        self.layers = nn.ModuleList()\n",
        "        prev_size = input_size # Initialize the size of the input to the first layer\n",
        "\n",
        "        # Build the hidden layers based on the hidden_sizes list\n",
        "        for hidden_size in hidden_sizes:\n",
        "\n",
        "            # Add a linear (fully connected) layer\n",
        "            layer = nn.Linear(prev_size, hidden_size)\n",
        "            nn.init.xavier_uniform_(layer.weight)  # Initialize weights using Xavier uniform initialization\n",
        "\n",
        "            self.layers.append(layer)\n",
        "\n",
        "            # Optionally add Batch Normalization\n",
        "            if use_batchnorm:\n",
        "                self.layers.append(nn.BatchNorm1d(hidden_size))\n",
        "\n",
        "            # Add the activation function after the linear layer (and BatchNorm if used)\n",
        "            self.layers.append(self.activation_fn)\n",
        "\n",
        "            # Optionally add Dropout for regularization\n",
        "            if dropout_prob > 0:\n",
        "                self.layers.append(nn.Dropout(p=dropout_prob))\n",
        "\n",
        "            prev_size = hidden_size # Update the input size for the next layer\n",
        "\n",
        "        # Add the output layer\n",
        "        self.output = nn.Linear(prev_size, output_size)\n",
        "        nn.init.xavier_uniform_(self.output.weight) # Initialize weights for the output layer\n",
        "\n",
        "    # Define the forward pass of the network\n",
        "    def forward(self, x):\n",
        "        # Flatten the input image\n",
        "        x = x.view(x.size(0), -1)  # Reshape to batch_size x (input_size)\n",
        "\n",
        "        # Pass the input through the sequence of hidden layers\n",
        "        for layer in self.layers:\n",
        "           x = layer(x)\n",
        "\n",
        "        # Pass the output of the hidden layers through the final output layer\n",
        "        x = self.output(x)\n",
        "        return x # Return the output logits"
      ],
      "metadata": {
        "id": "SyzgWxguwpQG"
      },
      "execution_count": 6,
      "outputs": []
    },
    {
      "cell_type": "code",
      "source": [
        "def run_epoch(model, loader, criterion, optimizer=None):\n",
        "    # Determine if it's a training epoch based on whether an optimizer is provided\n",
        "    is_train = optimizer is not None\n",
        "    # Set the model to training mode if optimizer is provided, otherwise set to evaluation mode\n",
        "    model.train() if is_train else model.eval()\n",
        "\n",
        "    total_loss, total_correct = 0, 0\n",
        "\n",
        "    for images, labels in loader:\n",
        "        # Move data to the specified device (GPU)\n",
        "        images, labels = images.to(device), labels.to(device)\n",
        "\n",
        "        # Perform forward pass: get model predictions (logits)\n",
        "        outputs = model(images)\n",
        "\n",
        "        # Calculate the loss between model outputs and true labels\n",
        "        loss = criterion(outputs, labels)\n",
        "\n",
        "        # Perform backward pass and optimization only in training mode\n",
        "        if is_train:\n",
        "            optimizer.zero_grad() # Clear previous gradients\n",
        "            loss.backward()       # Compute gradient of the loss with respect to model parameters\n",
        "            optimizer.step()      # Update model parameters using the gradients and optimizer\n",
        "\n",
        "        # Accumulate loss and count correct predictions\n",
        "        total_loss += loss.item() * images.size(0) # Sum of loss for each sample in the batch\n",
        "        # Get the index of the max log-probability (the predicted class)\n",
        "        # Compare predictions with true labels and sum up correct ones\n",
        "        total_correct += (outputs.argmax(1) == labels).sum().item()\n",
        "\n",
        "    # Calculate average loss and accuracy for the entire epoch\n",
        "    avg_loss = total_loss / len(loader.dataset)\n",
        "    avg_acc = total_correct / len(loader.dataset)\n",
        "    return avg_loss, avg_acc"
      ],
      "metadata": {
        "id": "hW9a3BSJhRgC"
      },
      "execution_count": 7,
      "outputs": []
    },
    {
      "cell_type": "code",
      "source": [
        "def train_model(model, train_loader, val_loader, lr=0.01, epochs=20, verbose=True):\n",
        "    model = model.to(device) # Move model to the device\n",
        "    optimizer = optim.SGD(model.parameters(), lr=lr)\n",
        "    criterion = nn.CrossEntropyLoss()\n",
        "\n",
        "    train_losses, val_losses, train_accs, val_accs = [], [], [], []\n",
        "\n",
        "    for epoch in range(epochs):\n",
        "        train_loss, train_acc = run_epoch(model, train_loader, criterion, optimizer)\n",
        "        val_loss, val_acc = run_epoch(model, val_loader, criterion)\n",
        "\n",
        "        train_losses.append(train_loss)\n",
        "        train_accs.append(train_acc)\n",
        "        val_losses.append(val_loss)\n",
        "        val_accs.append(val_acc)\n",
        "        if verbose:\n",
        "         print(f\"Epoch {epoch+1}/{epochs} | \" f\"Train Loss: {train_loss:.4f} Acc: {train_acc:.4f} | \" f\"Val Loss: {val_loss:.4f} Acc: {val_acc:.4f}\")\n",
        "\n",
        "    return {\n",
        "        'train_losses': train_losses,\n",
        "        'val_losses': val_losses,\n",
        "        'train_accs': train_accs,\n",
        "        'val_accs': val_accs\n",
        "    }"
      ],
      "metadata": {
        "id": "0HVw8xho1yWl"
      },
      "execution_count": 10,
      "outputs": []
    },
    {
      "cell_type": "code",
      "source": [
        "# Assuming a baseline model was trained and its history saved in a variable like `baseline_history`\n",
        "# If not, train a baseline model first and store its history\n",
        "\n",
        "# Example: Train a baseline model with default parameters (lr=0.01, epochs=20, no dropout, no batchnorm)\n",
        "baseline_model = CustomNN()\n",
        "baseline_history = train_model(baseline_model, train_loader, val_loader, lr=0.01, epochs=20, verbose=True)\n",
        "\n",
        "\n",
        "# Plot Training and Validation Loss\n",
        "plt.figure(figsize=(10, 5))\n",
        "plt.plot(baseline_history['train_losses'], label='Training Loss')\n",
        "plt.plot(baseline_history['val_losses'], label='Validation Loss')\n",
        "plt.title('Training and Validation Loss over Epochs (Baseline Model)')\n",
        "plt.xlabel('Epoch')\n",
        "plt.ylabel('Loss')\n",
        "plt.legend()\n",
        "plt.grid(True)\n",
        "plt.show()\n",
        "\n",
        "# Plot Training and Validation Accuracy\n",
        "plt.figure(figsize=(10, 5))\n",
        "plt.plot(baseline_history['train_accs'], label='Training Accuracy')\n",
        "plt.plot(baseline_history['val_accs'], label='Validation Accuracy')\n",
        "plt.title('Training and Validation Accuracy over Epochs (Baseline Model)')\n",
        "plt.xlabel('Epoch')\n",
        "plt.ylabel('Accuracy')\n",
        "plt.legend()\n",
        "plt.grid(True)\n",
        "plt.show()\n",
        "\n",
        "# Learning curves with error bars - This requires running multiple trials\n",
        "# We will run the training multiple times with different random seeds\n",
        "num_seeds = 5 # Number of runs for error bars\n",
        "num_epochs = 20 # Number of epochs for each run\n",
        "lr = 0.01 # Learning rate for baseline model\n",
        "\n",
        "all_train_losses = []\n",
        "all_val_losses = []\n",
        "all_train_accs = []\n",
        "all_val_accs = []\n",
        "\n",
        "print(f\"\\nRunning {num_seeds} trials for error bars...\")\n",
        "for s in range(num_seeds):\n",
        "    print(f\"Trial {s+1}/{num_seeds}\")\n",
        "    torch.manual_seed(s) # Set different seed for each run\n",
        "    model = CustomNN()\n",
        "    history = train_model(model, train_loader, val_loader, lr=lr, epochs=num_epochs, verbose=False)\n",
        "    all_train_losses.append(history['train_losses'])\n",
        "    all_val_losses.append(history['val_losses'])\n",
        "    all_train_accs.append(history['train_accs'])\n",
        "    all_val_accs.append(history['val_accs'])\n",
        "\n",
        "# Convert lists of lists to numpy arrays for easier calculation\n",
        "all_train_losses = np.array(all_train_losses)\n",
        "all_val_losses = np.array(all_val_losses)\n",
        "all_train_accs = np.array(all_train_accs)\n",
        "all_val_accs = np.array(all_val_accs)\n",
        "\n",
        "# Calculate mean and standard deviation\n",
        "mean_train_losses = np.mean(all_train_losses, axis=0)\n",
        "std_train_losses = np.std(all_train_losses, axis=0)\n",
        "mean_val_losses = np.mean(all_val_losses, axis=0)\n",
        "std_val_losses = np.std(all_val_losses, axis=0)\n",
        "\n",
        "mean_train_accs = np.mean(all_train_accs, axis=0)\n",
        "std_train_accs = np.std(all_train_accs, axis=0)\n",
        "mean_val_accs = np.mean(all_val_accs, axis=0)\n",
        "std_val_accs = np.std(all_val_accs, axis=0)\n",
        "\n",
        "\n",
        "# Plot Learning Curves with Error Bars (Loss)\n",
        "plt.figure(figsize=(10, 5))\n",
        "plt.errorbar(range(num_epochs), mean_train_losses, yerr=std_train_losses, label='Mean Training Loss', capsize=3)\n",
        "plt.errorbar(range(num_epochs), mean_val_losses, yerr=std_val_losses, label='Mean Validation Loss', capsize=3)\n",
        "plt.title('Learning Curves with Error Bars (Loss)')\n",
        "plt.xlabel('Epoch')\n",
        "plt.ylabel('Loss')\n",
        "plt.legend()\n",
        "plt.grid(True)\n",
        "plt.show()\n",
        "\n",
        "# Plot Learning Curves with Error Bars (Accuracy)\n",
        "plt.figure(figsize=(10, 5))\n",
        "plt.errorbar(range(num_epochs), mean_train_accs, yerr=std_train_accs, label='Mean Training Accuracy', capsize=3)\n",
        "plt.errorbar(range(num_epochs), mean_val_accs, yerr=std_val_accs, label='Mean Validation Accuracy', capsize=3)\n",
        "plt.title('Learning Curves with Error Bars (Accuracy)')\n",
        "plt.xlabel('Epoch')\n",
        "plt.ylabel('Accuracy')\n",
        "plt.legend()\n",
        "plt.grid(True)\n",
        "plt.show()\n",
        "\n",
        "\n",
        "# Convergence analysis - The loss and accuracy plots already show convergence behavior.\n",
        "# We can add a simple plot for convergence focusing on loss if preferred, but the first loss plot already does this.\n",
        "# I will add a more detailed explanation of convergence analysis based on the plots.\n",
        "print(\"\\nConvergence Analysis:\")\n",
        "print(\"The plots above illustrate the convergence behavior of the baseline model.\")\n",
        "print(\"- The **Loss over Epochs** plot shows how the training and validation loss decrease as training progresses. Convergence is typically reached when the loss stops decreasing significantly.\")\n",
        "print(\"- The **Accuracy over Epochs** plot shows how the training and validation accuracy increase. Convergence is typically reached when the accuracy plateaus.\")\n",
        "print(\"- The **Learning Curves with Error Bars** plots provide a more robust view of convergence by showing the average performance and variability across multiple training runs. Narrow error bars indicate consistent convergence.\")\n",
        "print(\"Analyzing these plots helps determine if the model is learning effectively, if it's overfitting (validation loss increases or accuracy plateaus while training continues to improve), or if it needs more training or hyperparameter tuning.\")"
      ],
      "metadata": {
        "colab": {
          "base_uri": "https://localhost:8080/"
        },
        "id": "GX1hHQmr-Rmi",
        "outputId": "51e84513-5d29-4520-908f-32e79419d209"
      },
      "execution_count": null,
      "outputs": [
        {
          "output_type": "stream",
          "name": "stdout",
          "text": [
            "Epoch 1/20 | Train Loss: 1.0704 Acc: 0.7201 | Val Loss: 0.5383 Acc: 0.8547\n",
            "Epoch 2/20 | Train Loss: 0.4368 Acc: 0.8817 | Val Loss: 0.3881 Acc: 0.8918\n",
            "Epoch 3/20 | Train Loss: 0.3484 Acc: 0.9013 | Val Loss: 0.3328 Acc: 0.9061\n",
            "Epoch 4/20 | Train Loss: 0.3083 Acc: 0.9127 | Val Loss: 0.3105 Acc: 0.9102\n",
            "Epoch 5/20 | Train Loss: 0.2817 Acc: 0.9199 | Val Loss: 0.2882 Acc: 0.9175\n",
            "Epoch 6/20 | Train Loss: 0.2617 Acc: 0.9260 | Val Loss: 0.2713 Acc: 0.9217\n",
            "Epoch 7/20 | Train Loss: 0.2446 Acc: 0.9314 | Val Loss: 0.2646 Acc: 0.9229\n",
            "Epoch 8/20 | Train Loss: 0.2299 Acc: 0.9351 | Val Loss: 0.2439 Acc: 0.9307\n",
            "Epoch 9/20 | Train Loss: 0.2169 Acc: 0.9387 | Val Loss: 0.2319 Acc: 0.9344\n",
            "Epoch 10/20 | Train Loss: 0.2049 Acc: 0.9424 | Val Loss: 0.2214 Acc: 0.9362\n",
            "Epoch 11/20 | Train Loss: 0.1952 Acc: 0.9450 | Val Loss: 0.2127 Acc: 0.9382\n",
            "Epoch 12/20 | Train Loss: 0.1856 Acc: 0.9473 | Val Loss: 0.2061 Acc: 0.9393\n",
            "Epoch 13/20 | Train Loss: 0.1773 Acc: 0.9500 | Val Loss: 0.1999 Acc: 0.9409\n",
            "Epoch 14/20 | Train Loss: 0.1696 Acc: 0.9522 | Val Loss: 0.1922 Acc: 0.9434\n",
            "Epoch 15/20 | Train Loss: 0.1620 Acc: 0.9546 | Val Loss: 0.1858 Acc: 0.9451\n",
            "Epoch 16/20 | Train Loss: 0.1556 Acc: 0.9554 | Val Loss: 0.1808 Acc: 0.9467\n",
            "Epoch 17/20 | Train Loss: 0.1496 Acc: 0.9576 | Val Loss: 0.1752 Acc: 0.9480\n"
          ]
        }
      ]
    },
    {
      "cell_type": "code",
      "source": [
        "results_lr, results_bs, results_arch = [], [], []"
      ],
      "metadata": {
        "id": "qRlz9hl3llQo"
      },
      "execution_count": null,
      "outputs": []
    },
    {
      "cell_type": "code",
      "source": [
        "learning_rates = [0.001, 0.01, 0.1, 1.0]\n",
        "for lr in learning_rates:\n",
        "    print(f\"\\n[LR Test] Learning Rate = {lr}\")\n",
        "    model = CustomNN()\n",
        "    history = train_model(model, train_loader, val_loader, lr=lr, epochs=10,print=False)\n",
        "    results_lr.append({\n",
        "        'LR': lr,\n",
        "        'Final Train Acc': history['train_accs'][-1],\n",
        "        'Final Val Acc': history['val_accs'][-1],\n",
        "        'Train Loss Curve': history['train_losses'],\n",
        "        'Val Loss Curve': history['val_losses']\n",
        "    })"
      ],
      "metadata": {
        "id": "rPtVdC_4itMr"
      },
      "execution_count": null,
      "outputs": []
    },
    {
      "cell_type": "code",
      "source": [
        "batch_sizes = [16, 32, 64, 128]\n",
        "for bs in batch_sizes:\n",
        "    print(f\"\\n[Batch Size Test] BS = {bs}\")\n",
        "    train_loader_bs, val_loader_bs, _ = get_dataloaders(batch_size=bs)\n",
        "    model = CustomNN()\n",
        "    history = train_model(model, train_loader_bs, val_loader_bs, lr=0.01, epochs=10,print=False)\n",
        "    results_bs.append({\n",
        "        'Batch Size': bs,\n",
        "        'Final Train Acc': history['train_accs'][-1],\n",
        "        'Final Val Acc': history['val_accs'][-1]\n",
        "    })"
      ],
      "metadata": {
        "id": "qw-swWHsivzj"
      },
      "execution_count": null,
      "outputs": []
    },
    {
      "cell_type": "code",
      "source": [
        "layer_options = [2, 3, 4, 5]\n",
        "neurons_options = [64, 128, 256, 512]\n",
        "\n",
        "for layers in layer_options:\n",
        "    for neurons in neurons_options:\n",
        "        hidden_sizes = [neurons] * layers\n",
        "        print(f\"\\n[Arch Test] Layers = {layers}, Neurons = {neurons}\")\n",
        "        model = CustomNN(hidden_sizes=hidden_sizes)\n",
        "        history = train_model(model, train_loader, val_loader, lr=0.01, epochs=10,print=False)\n",
        "        results_arch.append({\n",
        "            'Layers': layers,\n",
        "            'Neurons per Layer': neurons,\n",
        "            'Final Train Acc': history['train_accs'][-1],\n",
        "            'Final Val Acc': history['val_accs'][-1]\n",
        "        })"
      ],
      "metadata": {
        "id": "4B6-8IaLixDD"
      },
      "execution_count": null,
      "outputs": []
    },
    {
      "cell_type": "code",
      "source": [
        "df_lr = pd.DataFrame(results_lr)\n",
        "df_bs = pd.DataFrame(results_bs)\n",
        "df_arch = pd.DataFrame(results_arch)\n",
        "\n",
        "print(\"\\n=== Learning Rate Results ===\")\n",
        "print(df_lr[['LR', 'Final Train Acc', 'Final Val Acc']])\n",
        "\n",
        "print(\"\\n=== Batch Size Results ===\")\n",
        "print(df_bs)\n",
        "\n",
        "print(\"\\n=== Architecture Results ===\")\n",
        "print(df_arch)\n"
      ],
      "metadata": {
        "id": "kqM_hTstiz_U"
      },
      "execution_count": null,
      "outputs": []
    },
    {
      "cell_type": "code",
      "source": [
        "plt.figure()\n",
        "for res in results_lr:\n",
        "    plt.plot(res['Val Loss Curve'], label=f\"LR={res['LR']}\")\n",
        "plt.title(\"Validation Loss - LR Comparison\")\n",
        "plt.xlabel(\"Epoch\")\n",
        "plt.ylabel(\"Loss\")\n",
        "plt.legend()\n",
        "plt.show()"
      ],
      "metadata": {
        "id": "k1fC4wkJ11n4"
      },
      "execution_count": null,
      "outputs": []
    },
    {
      "cell_type": "code",
      "source": [
        "dropout_rates = [0.1, 0.3, 0.5, 0.7]\n",
        "use_bn_options = [False, True]\n",
        "\n",
        "results = []\n",
        "\n",
        "for bn in use_bn_options:\n",
        "    for dr in dropout_rates:\n",
        "        print(f\"\\n=== Running: Dropout={dr}, BatchNorm={bn} ===\")\n",
        "        model = CustomNN(dropout_prob=dr, use_batchnorm=bn)\n",
        "        history = train_model(model, train_loader, val_loader, lr=0.01, epochs=10)\n",
        "\n",
        "        results.append({\n",
        "            'Dropout': dr,\n",
        "            'BatchNorm': bn,\n",
        "            'Final Train Acc': history['train_accs'][-1],\n",
        "            'Final Val Acc': history['val_accs'][-1],\n",
        "            'Train Loss Curve': history['train_losses'],\n",
        "            'Val Loss Curve': history['val_losses'],\n",
        "            'Train Acc Curve': history['train_accs'],\n",
        "            'Val Acc Curve': history['val_accs']\n",
        "        })\n"
      ],
      "metadata": {
        "id": "XnFW82J-hd-5"
      },
      "execution_count": null,
      "outputs": []
    },
    {
      "cell_type": "code",
      "source": [
        "df_results = pd.DataFrame(results)\n",
        "print(df_results[['Dropout', 'BatchNorm', 'Final Train Acc', 'Final Val Acc']])\n"
      ],
      "metadata": {
        "id": "ajX0PzXUhgvq"
      },
      "execution_count": null,
      "outputs": []
    },
    {
      "cell_type": "code",
      "source": [
        "for res in results:\n",
        "    label = f\"DO={res['Dropout']}, BN={res['BatchNorm']}\"\n",
        "    plt.plot(res['Val Acc Curve'], label=label)\n",
        "\n",
        "plt.title(\"Validation Accuracy per Epoch\")\n",
        "plt.xlabel(\"Epoch\")\n",
        "plt.ylabel(\"Accuracy\")\n",
        "plt.legend()\n",
        "plt.show()"
      ],
      "metadata": {
        "id": "qShseZsPhj1K"
      },
      "execution_count": null,
      "outputs": []
    },
    {
      "cell_type": "code",
      "source": [
        "# Find best Learning Rate\n",
        "best_lr_result = max(results_lr, key=lambda x: x['Final Val Acc'])\n",
        "best_lr = best_lr_result['LR']\n",
        "\n",
        "# Find best Batch Size\n",
        "best_bs_result = max(results_bs, key=lambda x: x['Final Val Acc'])\n",
        "best_batch_size = best_bs_result['Batch Size']\n",
        "\n",
        "# Find best Architecture\n",
        "best_arch_result = max(results_arch, key=lambda x: x['Final Val Acc'])\n",
        "best_hidden_sizes = [best_arch_result['Neurons per Layer']] * best_arch_result['Layers']\n",
        "\n",
        "# Find best Dropout + BatchNorm combination\n",
        "best_reg_result = max(results, key=lambda x: x['Final Val Acc'])\n",
        "best_dropout = best_reg_result['Dropout']\n",
        "best_batchnorm = best_reg_result['BatchNorm']\n",
        "\n",
        "# Collect all best hyperparameters\n",
        "best_hyperparameters = [\n",
        "    {'type': 'learning_rate', 'value': best_lr, 'val_acc': best_lr_result['Final Val Acc']},\n",
        "    {'type': 'batch_size', 'value': best_batch_size, 'val_acc': best_bs_result['Final Val Acc']},\n",
        "    {'type': 'architecture', 'value': best_hidden_sizes, 'val_acc': best_arch_result['Final Val Acc']},\n",
        "    {'type': 'dropout', 'value': best_dropout, 'val_acc': best_reg_result['Final Val Acc']},\n",
        "    {'type': 'batchnorm', 'value': best_batchnorm, 'val_acc': best_reg_result['Final Val Acc']}\n",
        "]\n",
        "\n",
        "# Create final best configuration combining all best hyperparameters\n",
        "best_config = {\n",
        "    \"learning_rate\": best_lr,\n",
        "    \"batch_size\": best_batch_size,\n",
        "    \"hidden_layers\": best_hidden_sizes,\n",
        "    \"dropout\": best_dropout,\n",
        "    \"use_batchnorm\": best_batchnorm\n",
        "}\n",
        "\n",
        "print(\"=\" * 60)\n",
        "print(\"BEST HYPERPARAMETERS FROM EACH EXPERIMENT:\")\n",
        "print(\"=\" * 60)\n",
        "for hp in best_hyperparameters:\n",
        "    print(f\"{hp['type']}: {hp['value']} (Val Acc: {hp['val_acc']:.4f})\")\n",
        "\n",
        "print(\"\\n\" + \"=\" * 60)\n",
        "print(\"COMBINED BEST CONFIGURATION:\")\n",
        "print(\"=\" * 60)\n",
        "for key, value in best_config.items():\n",
        "    print(f\"{key}: {value}\")"
      ],
      "metadata": {
        "id": "7UoMZAM_CQMY"
      },
      "execution_count": null,
      "outputs": []
    },
    {
      "cell_type": "code",
      "metadata": {
        "id": "b53d344d"
      },
      "source": [
        "def train_final_model(best_config, train_loader, val_loader, epochs=20):\n",
        "    \"\"\"Trains a model with the best hyperparameters.\"\"\"\n",
        "    model = CustomNN(hidden_sizes=best_config['hidden_layers'],\n",
        "                      dropout_prob=best_config['dropout'],\n",
        "                      use_batchnorm=best_config['use_batchnorm'])\n",
        "\n",
        "    print(\"\\nTraining the final model with the best hyperparameters...\")\n",
        "\n",
        "    # Use the best batch size for the final training and validation loaders\n",
        "    train_loader_final, val_loader_final, _ = get_dataloaders(batch_size=best_config['batch_size'])\n",
        "\n",
        "    final_history = train_model(model, train_loader_final, val_loader_final,\n",
        "                                lr=best_config['learning_rate'], epochs=epochs)\n",
        "\n",
        "    return model, final_history"
      ],
      "execution_count": null,
      "outputs": []
    },
    {
      "cell_type": "code",
      "source": [
        "def predict_on_test_set(model, test_loader):\n",
        "    \"\"\"Evaluates the trained model on the test set.\"\"\"\n",
        "    model.to(device) # Ensure model is on the device for evaluation\n",
        "    model.eval() # Set model to evaluation mode\n",
        "    criterion = nn.CrossEntropyLoss() # Use the same criterion as training\n",
        "\n",
        "    test_loss, test_acc = run_epoch(model, test_loader, criterion)\n",
        "\n",
        "    print(\"=\" * 60)\n",
        "    print(\"FINAL MODEL EVALUATION ON TEST SET:\")\n",
        "    print(\"=\" * 60)\n",
        "    print(f\"Test Loss: {test_loss:.4f}\")\n",
        "    print(f\"Test Accuracy: {test_acc:.4f}\")\n",
        "    return test_loss, test_acc"
      ],
      "metadata": {
        "id": "1OCMdHOaDScX"
      },
      "execution_count": null,
      "outputs": []
    },
    {
      "cell_type": "code",
      "source": [
        "_, _, test_loader_final = get_dataloaders(batch_size=best_config['batch_size'])\n",
        "\n",
        "# Train the model\n",
        "final_model, final_history = train_final_model(best_config, train_loader, val_loader, epochs=20)\n",
        "\n",
        "# Make predictions\n",
        "test_loss, test_acc = predict_on_test_set(final_model, test_loader_final)"
      ],
      "metadata": {
        "id": "r4OOPqSyDUtY"
      },
      "execution_count": null,
      "outputs": []
    }
  ]
}